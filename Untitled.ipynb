{
 "cells": [
  {
   "cell_type": "code",
   "execution_count": null,
   "metadata": {},
   "outputs": [],
   "source": [
    "import pandas as pd \n",
    "import matplotlib.pyplot as plt \n",
    "pd.plotting.register_matplotlib_converters()\n",
    "%matplotlib inline \n",
    "import seaborn as sns\n",
    "print(\" start \")"
   ]
  },
  {
   "cell_type": "code",
   "execution_count": null,
   "metadata": {},
   "outputs": [],
   "source": [
    "from learntools.core import binder\n",
    "binder.bind(globals())\n",
    "from learntools.data_viz_to_coder.ex7 import *\n",
    "print(\"start\")"
   ]
  },
  {
   "cell_type": "code",
   "execution_count": null,
   "metadata": {},
   "outputs": [],
   "source": [
    "#read data \n",
    "data_set=pd.read_csv('dc-wikia-data.csv')\n",
    "marvel=pd.read_csv('marvel-wikia-data.csv')"
   ]
  },
  {
   "cell_type": "code",
   "execution_count": null,
   "metadata": {},
   "outputs": [],
   "source": [
    "#print the frist five rows \n",
    "data_set.head()"
   ]
  },
  {
   "cell_type": "code",
   "execution_count": null,
   "metadata": {},
   "outputs": [],
   "source": [
    "marvel.head()"
   ]
  },
  {
   "cell_type": "code",
   "execution_count": null,
   "metadata": {},
   "outputs": [],
   "source": [
    "marvel.info()"
   ]
  },
  {
   "cell_type": "code",
   "execution_count": null,
   "metadata": {},
   "outputs": [],
   "source": [
    "data_set.info()"
   ]
  },
  {
   "cell_type": "code",
   "execution_count": null,
   "metadata": {},
   "outputs": [],
   "source": [
    "data_set.isnull().sum()"
   ]
  },
  {
   "cell_type": "markdown",
   "metadata": {},
   "source": [
    "# data visualizition"
   ]
  },
  {
   "cell_type": "code",
   "execution_count": null,
   "metadata": {},
   "outputs": [],
   "source": [
    "data_set['ALIGN'].value_counts()"
   ]
  },
  {
   "cell_type": "code",
   "execution_count": null,
   "metadata": {},
   "outputs": [],
   "source": [
    "data_set['SEX'].value_counts()"
   ]
  },
  {
   "cell_type": "code",
   "execution_count": null,
   "metadata": {},
   "outputs": [],
   "source": [
    "marvel['ALIGN'].value_counts()"
   ]
  },
  {
   "cell_type": "code",
   "execution_count": null,
   "metadata": {},
   "outputs": [],
   "source": [
    "plt.subplots(3,4,figsize=(10,10))\n",
    "plt.subplot(121)\n",
    "sns.countplot(data=marvel,x='ALIGN', hue='SEX')\n",
    "plt.legend(loc='upper right')\n",
    "plt.subplot(122)\n",
    "sns.countplot(data=data_set, x='ALIGN', hue='SEX')\n",
    "plt.legend(loc='upper right')"
   ]
  },
  {
   "cell_type": "code",
   "execution_count": null,
   "metadata": {},
   "outputs": [],
   "source": [
    "# Hero evolution by the decade\n",
    "data_set.groupby('YEAR')['SEX'].value_counts().unstack().plot()\n",
    "marvel.groupby('Year')['SEX'].value_counts().unstack().plot()"
   ]
  },
  {
   "cell_type": "code",
   "execution_count": null,
   "metadata": {},
   "outputs": [],
   "source": [
    "plt.subplots(1,2,figsize=(10,10))\n",
    "sns.set_style('darkgrid')\n",
    "\n",
    "plt.subplot(121)\n",
    "\n",
    "\n",
    "sns.countplot(data=marvel, x='ALIGN', hue='ID')\n",
    "plt.legend(loc='upper right')\n",
    "\n",
    "plt.title('Marvel character identities')\n",
    "plt.subplot(122)\n",
    "\n",
    "sns.countplot(data=data_set, x='ALIGN', hue='ID')\n",
    "plt.legend(loc='upper right')\n",
    "plt.title('DC character identities')"
   ]
  },
  {
   "cell_type": "code",
   "execution_count": null,
   "metadata": {},
   "outputs": [],
   "source": [
    "# Dead People distribution\n",
    "\n",
    "\n",
    "plt.subplots(1,2, figsize= (10,10))\n",
    "sns.set_style('white')\n",
    "plt.subplot(121)\n",
    "\n",
    "sns.countplot(data=marvel[marvel['ALIVE']=='Deceased Characters'], x='ALIGN', hue='SEX')\n",
    "plt.legend(loc='upper right')\n",
    "plt.title('Marvel Death tolls')\n",
    "\n",
    "plt.subplot(122)\n",
    "\n",
    "sns.countplot(data=data_set[data_set['ALIVE']=='Deceased Characters'], x='ALIGN', hue='SEX')\n",
    "plt.legend(loc='upper right')\n",
    "plt.title('DC Death tolls')"
   ]
  },
  {
   "cell_type": "markdown",
   "metadata": {},
   "source": [
    "# ##Top 10 Characters in each Universe¶\n"
   ]
  },
  {
   "cell_type": "code",
   "execution_count": null,
   "metadata": {},
   "outputs": [],
   "source": [
    "max_dc=data_set.sort_values('APPEARANCES', ascending=False)\n",
    "max_dc[['name','APPEARANCES','ID','ALIGN','ALIVE']].set_index('APPEARANCES').head(10)"
   ]
  },
  {
   "cell_type": "code",
   "execution_count": null,
   "metadata": {},
   "outputs": [],
   "source": [
    "max_marv=marvel.sort_values('APPEARANCES', ascending=False)\n",
    "\n",
    "max_marv[['name','APPEARANCES','ID','ALIGN','ALIVE']].set_index('APPEARANCES').head(10)"
   ]
  },
  {
   "cell_type": "code",
   "execution_count": null,
   "metadata": {},
   "outputs": [],
   "source": [
    "plt.figure(figsize=(16,6))\n",
    "sns.swarmplot(data_set['ID'], data_set['YEAR'], hue=data_set['ALIGN'])"
   ]
  },
  {
   "cell_type": "code",
   "execution_count": null,
   "metadata": {},
   "outputs": [],
   "source": [
    "sns.swarmplot(marvel['ID'], marvel['Year'], hue=marvel['ALIGN'])"
   ]
  },
  {
   "cell_type": "code",
   "execution_count": null,
   "metadata": {},
   "outputs": [],
   "source": []
  }
 ],
 "metadata": {
  "kernelspec": {
   "display_name": "Python 3",
   "language": "python",
   "name": "python3"
  },
  "language_info": {
   "codemirror_mode": {
    "name": "ipython",
    "version": 3
   },
   "file_extension": ".py",
   "mimetype": "text/x-python",
   "name": "python",
   "nbconvert_exporter": "python",
   "pygments_lexer": "ipython3",
   "version": "3.8.5"
  }
 },
 "nbformat": 4,
 "nbformat_minor": 4
}
